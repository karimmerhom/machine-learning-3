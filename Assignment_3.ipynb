{
  "cells": [
    {
      "cell_type": "markdown",
      "metadata": {
        "id": "3QTsXonr2uw1"
      },
      "source": [
        "<h1><center>CSEN1022:Assignment 3</center></h1>\n",
        "<h3><center>Winter 2021</center></h3>\n",
        "<hr style=\"border:2px solid black\"> </hr>"
      ]
    },
    {
      "cell_type": "markdown",
      "metadata": {
        "id": "4D3TEFuU2uw4"
      },
      "source": [
        "## <u> Please don't forget to fill in this data </u>\n",
        "**Member 1**\n",
        "\n",
        "Name:Karim Ebrahim\n",
        "\n",
        "GUC-ID:43-0414\n",
        "\n",
        "Elective Tutorial No.:T-01\n",
        "\n",
        "**Member 2**\n",
        "\n",
        "Name:Shadi Nakhla\n",
        "\n",
        "GUC-ID:43-0411\n",
        "\n",
        "Elective Tutorial No.:T-01\n",
        "\n",
        "<hr style=\"border:2px solid black\"> </hr>"
      ]
    },
    {
      "cell_type": "markdown",
      "metadata": {
        "id": "YZjrGm7S2uw4"
      },
      "source": [
        "## Imports (Don't Edit)"
      ]
    },
    {
      "cell_type": "code",
      "execution_count": 27,
      "metadata": {
        "id": "pWqm1oxe2uw5"
      },
      "outputs": [],
      "source": [
        "# ONLY USE THESE IMPORTS.\n",
        "# PLEASE DON'T EDIT THIS CELL.\n",
        "import numpy as np\n",
        "import matplotlib.pyplot as plt\n",
        "%matplotlib inline"
      ]
    },
    {
      "cell_type": "markdown",
      "metadata": {
        "id": "9cF_QGOc2uw5"
      },
      "source": [
        "## Read Data"
      ]
    },
    {
      "cell_type": "code",
      "source": [
        "!unzip Data.zip"
      ],
      "metadata": {
        "id": "j5wf1VUi4bdq",
        "colab": {
          "base_uri": "https://localhost:8080/"
        },
        "outputId": "7517f0ef-053c-4366-f00f-84503c734421"
      },
      "execution_count": 28,
      "outputs": [
        {
          "output_type": "stream",
          "name": "stdout",
          "text": [
            "Archive:  Data.zip\n",
            "replace Data/test/airplane/0.jpg? [y]es, [n]o, [A]ll, [N]one, [r]ename: "
          ]
        }
      ]
    },
    {
      "cell_type": "code",
      "source": [
        "def fillMatrixNormalized (type):\n",
        "  matrix = np.array([plt.imread('/content/Data/train/'+type+\"/\" +str(i)+'.jpg').reshape(-1) for i in range (0,5000)])\n",
        "    \n",
        "  matrix = np.true_divide(matrix, 255)\n",
        "  return(matrix)"
      ],
      "metadata": {
        "id": "KyAWueje4ZGl"
      },
      "execution_count": 29,
      "outputs": []
    },
    {
      "cell_type": "code",
      "source": [
        "def fillMatrixNormalizedTest (type):\n",
        "  matrix = np.array([plt.imread('/content/Data/test/'+type+\"/\" +str(i)+'.jpg').reshape(-1) for i in range (0,1000)])\n",
        "    \n",
        "  matrix = np.true_divide(matrix, 255)\n",
        "  return(matrix)"
      ],
      "metadata": {
        "id": "abu2yqbE5Kme"
      },
      "execution_count": 30,
      "outputs": []
    },
    {
      "cell_type": "code",
      "source": [
        "filledMatrixA_train = (fillMatrixNormalized(\"airplane\"))\n",
        "filledMatrixB_train = (fillMatrixNormalized(\"bird\"))\n",
        "filledMatrixT_train = (fillMatrixNormalized(\"truck\"))\n",
        "filledMatrixA_test = (fillMatrixNormalizedTest(\"airplane\"))\n",
        "filledMatrixB_test = (fillMatrixNormalizedTest(\"bird\"))\n",
        "filledMatrixT_test = (fillMatrixNormalizedTest(\"truck\"))"
      ],
      "metadata": {
        "id": "2lN5rcCZ5uFS"
      },
      "execution_count": 31,
      "outputs": []
    },
    {
      "cell_type": "code",
      "source": [
        "X_train = np.concatenate((filledMatrixA_train,filledMatrixB_train, filledMatrixT_train), axis=0)\n",
        "print(X_train.shape)\n",
        "X_test = np.concatenate((filledMatrixA_test,filledMatrixB_test, filledMatrixT_test), axis=0)\n",
        "print(X_test.shape)"
      ],
      "metadata": {
        "colab": {
          "base_uri": "https://localhost:8080/"
        },
        "id": "pO0AzinI6_AQ",
        "outputId": "46475a9c-0300-4887-bc01-0fcb068a6711"
      },
      "execution_count": 32,
      "outputs": [
        {
          "output_type": "stream",
          "name": "stdout",
          "text": [
            "(15000, 3072)\n",
            "(3000, 3072)\n"
          ]
        }
      ]
    },
    {
      "cell_type": "markdown",
      "metadata": {
        "id": "iXEVOZ5R2uw6"
      },
      "source": [
        "<hr style=\"border:2px solid black\"> </hr>\n",
        "\n",
        "# Perform K means clustering for all 3 classes (Training Data).\n",
        "### Return (memberships, centroids, dbi) --> (vector, matrix, scalar value)."
      ]
    },
    {
      "cell_type": "code",
      "execution_count": 33,
      "metadata": {
        "id": "d37DmqkT2uw6"
      },
      "outputs": [],
      "source": [
        "randomizedNumbers = np.random.randint(low=0, high=5000, size=(3))\n",
        "centroids = np.array([X_train[randomizedNumbers[0]], X_train[randomizedNumbers[1]], X_train[randomizedNumbers[2]]])"
      ]
    },
    {
      "cell_type": "code",
      "source": [
        "def euclideanDistance(x,y):\n",
        "    return np.sqrt(np.sum(np.square(x - y)))"
      ],
      "metadata": {
        "id": "g05w2pIv9Dap"
      },
      "execution_count": 34,
      "outputs": []
    },
    {
      "cell_type": "code",
      "source": [
        "def AssignMembers(centroids):\n",
        "    membershipVector = np.empty([15000])\n",
        "    for i in range(0,15000):\n",
        "        distanceToCent0 = euclideanDistance(X_train[i], centroids[0])\n",
        "        distanceToCent1 = euclideanDistance(X_train[i], centroids[1])\n",
        "        distanceToCent2 = euclideanDistance(X_train[i], centroids[2])\n",
        "        minimumDistance = min(distanceToCent0, distanceToCent1, distanceToCent2)\n",
        "        if (minimumDistance == distanceToCent0):\n",
        "            membershipVector[i] = 0\n",
        "            \n",
        "        elif(minimumDistance == distanceToCent1):\n",
        "            membershipVector[i] = 1\n",
        "            \n",
        "        elif(minimumDistance == distanceToCent2):\n",
        "            membershipVector[i] = 2\n",
        "            \n",
        "    return membershipVector"
      ],
      "metadata": {
        "id": "3d5t1riy-BBo"
      },
      "execution_count": 35,
      "outputs": []
    },
    {
      "cell_type": "code",
      "source": [
        "newRandoms = np.random.randint(low=0, high=5000, size=(3,))\n",
        "newCentroids = np.array([X_train[newRandoms[0]], X_train[newRandoms[1]], X_train[newRandoms[2]]])"
      ],
      "metadata": {
        "id": "-CjyuvfyAUHN"
      },
      "execution_count": 36,
      "outputs": []
    },
    {
      "cell_type": "code",
      "source": [
        "while((np.array_equal(centroids,newCentroids)) == False):\n",
        "    centroids = newCentroids\n",
        "    membershipVector = AssignMembers(newCentroids)\n",
        "    centroid0Tuple = tuple(np.where(membershipVector==0))\n",
        "    centroid0 = X_train[centroid0Tuple]\n",
        "    meanCentroid0 =  centroid0.mean(axis=0)   \n",
        "    centroid1Tuple = tuple(np.where(membershipVector==1))\n",
        "    centroid1 = X_train[centroid1Tuple]\n",
        "    meanCentroid1 =  centroid1.mean(axis=0) \n",
        "    centroid2Tuple = tuple(np.where(membershipVector==2))\n",
        "    centroid2 = X_train[centroid2Tuple]\n",
        "    meanCentroid2 =  centroid2.mean(axis=0) \n",
        "    newCentroids = np.array([meanCentroid0 ,meanCentroid1, meanCentroid2])\n",
        "membershipVector = AssignMembers(newCentroids)"
      ],
      "metadata": {
        "id": "gVanHCe1AiD0"
      },
      "execution_count": 37,
      "outputs": []
    },
    {
      "cell_type": "code",
      "source": [
        "def sumation(membershipVector, centroids):\n",
        "    centroid0Tuple = tuple(np.where(membershipVector==0))\n",
        "    centroid0 = X_train[centroid0Tuple]\n",
        "    distance0 = []\n",
        "    for i in centroid0:\n",
        "        distance0.append(euclideanDistance(i,centroids[0]))\n",
        "    sum0 =  np.sum(np.array(distance0))/centroid0.shape[0] \n",
        "     \n",
        "    centroid1Tuple = tuple(np.where(membershipVector==1))\n",
        "    centroid1 = X_train[centroid1Tuple]\n",
        "    distance1 = []\n",
        "    for j in centroid1:\n",
        "        distance1.append(euclideanDistance(i,centroids[1]))\n",
        "    sum1 =  np.sum(np.array(distance1))/centroid0.shape[0] \n",
        "    \n",
        "    centroid2Tuple = tuple(np.where(membershipVector==2))\n",
        "    centroid2 = X_train[centroid2Tuple]\n",
        "    distance2 = []\n",
        "    for k in centroid2:\n",
        "        distance2.append(euclideanDistance(i,centroids[2]))\n",
        "    sum2 =  np.sum(np.array(distance2))/centroid0.shape[0]\n",
        "    return sum0, sum1, sum2"
      ],
      "metadata": {
        "id": "Smf-86OZB5cT"
      },
      "execution_count": 38,
      "outputs": []
    },
    {
      "cell_type": "code",
      "source": [
        "def CalculateDBI(membership_vector, centroids):\n",
        "    s0,s1,s2 = sumation(membership_vector, centroids)\n",
        "    r01 = (s0 + s1)/(euclideanDistance(centroids[0],centroids[1]))\n",
        "    r02 = (s0 + s2)/(euclideanDistance(centroids[0],centroids[2]))\n",
        "    r12 = (s1 + s2)/(euclideanDistance(centroids[1],centroids[2]))\n",
        "    d0 = max(r01,r02)\n",
        "    d1 = max(r01,r12)\n",
        "    d2 = max(r02,r12)\n",
        "    dbi = (d0+d1+d2)/3\n",
        "    return dbi"
      ],
      "metadata": {
        "id": "-q3ocp_hB588"
      },
      "execution_count": 39,
      "outputs": []
    },
    {
      "cell_type": "code",
      "source": [
        "dbi = CalculateDBI(membershipVector, newCentroids)\n",
        "print(dbi)"
      ],
      "metadata": {
        "id": "srgiOydGB8Y6",
        "colab": {
          "base_uri": "https://localhost:8080/"
        },
        "outputId": "b84169ff-92bc-41d6-cd92-f084636b56b4"
      },
      "execution_count": 40,
      "outputs": [
        {
          "output_type": "stream",
          "name": "stdout",
          "text": [
            "4.712267216659791\n"
          ]
        }
      ]
    },
    {
      "cell_type": "code",
      "source": [
        "def RepeatDBI():\n",
        "    randomizedNumbers = np.random.randint(low=0, high=5000, size=(3,))\n",
        "    centroids = np.array([X_train[randomizedNumbers[0]], X_train[randomizedNumbers[1]], X_train[randomizedNumbers[2]]])\n",
        "    newRandoms = np.random.randint(low=0, high=5000, size=(3,))\n",
        "    newCentroids = np.array([X_train[newRandoms[0]], X_train[newRandoms[1]], X_train[newRandoms[2]]])\n",
        "    while((np.array_equal(centroids,newCentroids)) == False):\n",
        "        centroids = newCentroids\n",
        "        membershipVector = AssignMembers(newCentroids)\n",
        "        centroid0Tuple = tuple(np.where(membershipVector==0))\n",
        "        centroid0 = X_train[centroid0Tuple]\n",
        "        mean0 =  centroid0.mean(axis=0)\n",
        "        centroid1Tuple = tuple(np.where(membershipVector==1))\n",
        "        centroid1 = X_train[centroid1Tuple]\n",
        "        mean1 =  centroid1.mean(axis=0)   \n",
        "        centroid2Tuple = tuple(np.where(membershipVector==2))\n",
        "        centroid2 = X_train[centroid2Tuple]\n",
        "        mean2 =  centroid2.mean(axis=0)  \n",
        "        newCentroids = np.array([mean0 ,mean1, mean2])\n",
        "    dbi = CalculateDBI(membershipVector, newCentroids)\n",
        "    return (membershipVector, newCentroids, dbi)"
      ],
      "metadata": {
        "id": "W5CNZG2yB-DF"
      },
      "execution_count": 41,
      "outputs": []
    },
    {
      "cell_type": "markdown",
      "metadata": {
        "id": "jTPtYoQP2uw7"
      },
      "source": [
        "<hr style=\"border:2px solid black\"> </hr>\n",
        "\n",
        "# Repeat the previous process 10 times. \n",
        "### Pick the membership vector and the centroids matrix corresponding to the best dbi.\n",
        "##### Make sure you return max_counts and confusion_matrix.\n",
        "(keep history in whatever datastructure you like)."
      ]
    },
    {
      "cell_type": "code",
      "execution_count": 43,
      "metadata": {
        "id": "QzajWLUn2uw7"
      },
      "outputs": [],
      "source": [
        "def FindBestDBI():\n",
        "    bestMembershipMatrix = list()\n",
        "    bestCentroids = list()\n",
        "    best_dbi = list()\n",
        "    for i in range(10):\n",
        "        membershipVector, centroids, dbi = RepeatDBI()\n",
        "        bestMembershipMatrix.append(membershipVector)\n",
        "        bestCentroids.append(centroids)\n",
        "        best_dbi.append(dbi)\n",
        "    min_dbi = min(best_dbi)\n",
        "    min_index = best_dbi.index(min_dbi)\n",
        "    return bestMembershipMatrix[min_index], bestCentroids[min_index], min_dbi\n",
        "bestMembershipMatrix, bestCentroids , best_dbi = FindBestDBI()"
      ]
    },
    {
      "cell_type": "code",
      "source": [
        "x0 = 0\n",
        "x1 = 0\n",
        "x2 = 0\n",
        "maxAirplane = 0\n",
        "maxBird = 0\n",
        "maxTruck = 0\n",
        "for i in range(0,5000):\n",
        "    if (bestMembershipMatrix[i] == 0):\n",
        "        x0 += 1\n",
        "    elif (bestMembershipMatrix[i] == 1):\n",
        "        x1 += 1\n",
        "    elif (bestMembershipMatrix[i] == 2):\n",
        "        x2 += 1\n",
        "maxAirplane = max(x0, x1, x2)\n",
        "if (maxAirplane == x0):\n",
        "    airplaneClassifier = 0\n",
        "elif (maxAirplane == x1):\n",
        "    airplaneClassifier = 1\n",
        "elif (maxAirplane == x2):\n",
        "    airplaneClassifier = 2\n",
        "\n",
        "x0 = 0\n",
        "x1 = 0\n",
        "x2 = 0\n",
        "for i in range(5000,10000):\n",
        "    if (bestMembershipMatrix[i] == 0):\n",
        "        x0 += 1\n",
        "    elif (bestMembershipMatrix[i] == 1):\n",
        "        x1 += 1\n",
        "    elif (bestMembershipMatrix[i] == 2):\n",
        "        x2 += 1\n",
        "maxBirds = max(x0,x1,x2)\n",
        "if (maxBirds == x0):\n",
        "    birdClassifier = 0\n",
        "elif (maxBirds == x1):\n",
        "    birdClassifier = 1\n",
        "elif (maxBirds == x2):\n",
        "    birdClassifier = 2\n",
        "\n",
        "x0 = 0\n",
        "x1 = 0\n",
        "x2 = 0\n",
        "for i in range(10000,15000):\n",
        "    if (bestMembershipMatrix[i] == 0):\n",
        "        x0 += 1\n",
        "    elif (bestMembershipMatrix[i] == 1):\n",
        "        x1 += 1\n",
        "    elif (bestMembershipMatrix[i] == 2):\n",
        "        x2 += 1\n",
        "maxTruck = max(x0,x1,x2)\n",
        "if (maxTruck == x0):\n",
        "    truckClassifier = 0\n",
        "elif (maxTruck == x1):\n",
        "    truckClassifier = 1\n",
        "elif (maxTruck == x2):\n",
        "    truckClassifier = 2\n",
        "\n",
        "max_counts = [maxAirplane, maxBirds, maxTruck]"
      ],
      "metadata": {
        "id": "Syj2I1XECMvU"
      },
      "execution_count": 49,
      "outputs": []
    },
    {
      "cell_type": "code",
      "source": [
        "def AssignTestMember(centroids):\n",
        "    membershipVector = np.empty([3000,1])\n",
        "    for i in range(0,3000):\n",
        "        distanceToCent0 = euclideanDistance(X_test[i], centroids[0])\n",
        "        distanceToCent1 = euclideanDistance(X_test[i], centroids[1])\n",
        "        distanceToCent2 = euclideanDistance(X_test[i], centroids[2])\n",
        "        minimumDistance = min(distanceToCent0, distanceToCent1, distanceToCent2)\n",
        "        if (minimumDistance == distanceToCent0):\n",
        "            membershipVector[i] = 0\n",
        "        elif(minimumDistance == distanceToCent1):\n",
        "            membershipVector[i] = 1\n",
        "        elif(minimumDistance == distanceToCent2):\n",
        "            membershipVector[i] = 2\n",
        "    return membershipVector"
      ],
      "metadata": {
        "id": "mODdLqGACPm-"
      },
      "execution_count": 50,
      "outputs": []
    },
    {
      "cell_type": "code",
      "source": [
        "airplanes = 0;\n",
        "birds = 0;\n",
        "trucks = 0;\n",
        "\n",
        "\n",
        "confusion_matrix = [[],[],[]]\n",
        "membership_vector = AssignTestMember(bestCentroids)\n",
        "\n",
        "for i in range(0,1000):\n",
        "    if (membership_vector[i] == airplaneClassifier):\n",
        "        airplanes += 1\n",
        "    elif (membership_vector[i] == birdClassifier):\n",
        "       birds += 1\n",
        "    elif (membership_vector[i] == truckClassifier):\n",
        "        trucks += 1\n",
        "        \n",
        "confusion_matrix[0] = [airplanes, birds, trucks]\n",
        "airplanes = 0;\n",
        "birds = 0;\n",
        "trucks = 0;\n",
        "\n",
        "for i in range(1000,2000):\n",
        "    if (membership_vector[i] == airplaneClassifier):\n",
        "        airplanes += 1\n",
        "    elif (membership_vector[i] == birdClassifier):\n",
        "       birds += 1\n",
        "    elif (membership_vector[i] == truckClassifier):\n",
        "        trucks += 1\n",
        "        \n",
        "confusion_matrix[1] = [airplanes, birds, trucks]\n",
        "\n",
        "\n",
        "airplanes = 0;\n",
        "birds = 0;\n",
        "trucks = 0;\n",
        "\n",
        "for i in range(2000,3000):\n",
        "    if (membership_vector[i] == airplaneClassifier):\n",
        "        airplanes += 1\n",
        "    elif (membership_vector[i] == birdClassifier):\n",
        "       birds += 1\n",
        "    elif (membership_vector[i] == truckClassifier):\n",
        "        trucks += 1\n",
        "        \n",
        "confusion_matrix[2] = [airplanes, birds, trucks]\n",
        "\n",
        "confusion_matrix = np.array(confusion_matrix)\n",
        "\n",
        "\n",
        "\n"
      ],
      "metadata": {
        "id": "8ajzzOSXCS3V"
      },
      "execution_count": 51,
      "outputs": []
    },
    {
      "cell_type": "markdown",
      "metadata": {
        "id": "Mfxmq1Pg2uw8"
      },
      "source": [
        "<hr style=\"border:2px solid black\"> </hr>\n",
        "\n",
        "## Don't Edit the Following Cells, Just Run & Save them."
      ]
    },
    {
      "cell_type": "code",
      "execution_count": 52,
      "metadata": {
        "id": "0_Zzf8c62uw8",
        "colab": {
          "base_uri": "https://localhost:8080/",
          "height": 408
        },
        "outputId": "a3ccaab1-319a-4cb9-e99f-ed8a433fcbb5"
      },
      "outputs": [
        {
          "output_type": "execute_result",
          "data": {
            "text/plain": [
              "Text(0.5, 1.0, 'Best Counts')"
            ]
          },
          "metadata": {},
          "execution_count": 52
        },
        {
          "output_type": "display_data",
          "data": {
            "image/png": "[encoded data removed]",
            "text/plain": [
              "<Figure size 720x432 with 1 Axes>"
            ]
          },
          "metadata": {
            "needs_background": "light"
          }
        }
      ],
      "source": [
        "plt.figure(figsize=(10,6))\n",
        "plt.plot(['Airplane','Bird','Truck'],max_counts,'-o')\n",
        "plt.title('Best Counts')"
      ]
    },
    {
      "cell_type": "code",
      "execution_count": 53,
      "metadata": {
        "id": "8WNcSPbf2uw8",
        "colab": {
          "base_uri": "https://localhost:8080/",
          "height": 330
        },
        "outputId": "575c8b87-3eea-48cc-900d-bf10651b7bae"
      },
      "outputs": [
        {
          "output_type": "display_data",
          "data": {
            "image/png": "[encoded data removed]",
            "text/plain": [
              "<Figure size 360x360 with 1 Axes>"
            ]
          },
          "metadata": {
            "needs_background": "light"
          }
        }
      ],
      "source": [
        "plt.rc('figure', figsize=[5,5])\n",
        "plt.matshow(confusion_matrix,cmap=\"Blues\")\n",
        "for i in range(0,confusion_matrix.shape[0]):\n",
        "    for j in range(0,confusion_matrix.shape[1]):\n",
        "        plt.annotate(confusion_matrix[i,j],(j,i))"
      ]
    }
  ],
  "metadata": {
    "interpreter": {
      "hash": "31f2aee4e71d21fbe5cf8b01ff0e069b9275f58929596ceb00d14d90e3e16cd6"
    },
    "kernelspec": {
      "display_name": "Python 3",
      "language": "python",
      "name": "python3"
    },
    "language_info": {
      "codemirror_mode": {
        "name": "ipython",
        "version": 3
      },
      "file_extension": ".py",
      "mimetype": "text/x-python",
      "name": "python",
      "nbconvert_exporter": "python",
      "pygments_lexer": "ipython3",
      "version": "3.6.15"
    },
    "colab": {
      "name": "Assignment_3.ipynb",
      "provenance": [],
      "collapsed_sections": []
    }
  },
  "nbformat": 4,
  "nbformat_minor": 0
}